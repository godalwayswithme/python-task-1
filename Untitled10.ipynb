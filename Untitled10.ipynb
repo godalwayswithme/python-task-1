{
  "nbformat": 4,
  "nbformat_minor": 0,
  "metadata": {
    "colab": {
      "provenance": []
    },
    "kernelspec": {
      "name": "python3",
      "display_name": "Python 3"
    },
    "language_info": {
      "name": "python"
    }
  },
  "cells": [
    {
      "cell_type": "code",
      "execution_count": null,
      "metadata": {
        "id": "-8mlTpSxLSXZ"
      },
      "outputs": [],
      "source": [
        "Let's tackle these two questions one by one.\n",
        "\n",
        "### Q1: Function to Calculate Product of All Numbers in a Flat List\n",
        "\n",
        "To create a function that flattens a list and computes the product of all numeric values, we can use recursion to handle nested lists, tuples, and dictionaries. Here’s how you can implement this:\n",
        "\n",
        "```python\n",
        "def flatten_and_product(input_list):\n",
        "    product = 1\n",
        "\n",
        "    def flatten(lst):\n",
        "        nonlocal product\n",
        "        for item in lst:\n",
        "            if isinstance(item, (list, tuple)):\n",
        "                flatten(item)  # Recursive call for nested lists or tuples\n",
        "            elif isinstance(item, dict):\n",
        "                for value in item.values():\n",
        "                    if isinstance(value, (list, tuple)):\n",
        "                        flatten(value)  # Flattening list/tuple values in dict\n",
        "                    elif isinstance(value, (int, float)):\n",
        "                        product *= value  # Multiply numeric values from dict\n",
        "            elif isinstance(item, (int, float)):\n",
        "                product *= item  # Multiply numeric values\n",
        "\n",
        "    flatten(input_list)\n",
        "    return product\n",
        "\n",
        "# Example usage\n",
        "list1 = [1, 2, 3, 4, [44, 55, 66, True], False, (34, 56, 78, 89, 34),\n",
        "         {1: 34, \"key2\": [55, 67, 78, 89], 4: (45, 22, 61, 34)}, [56, 'data science'], 'Machine Learning']\n",
        "result = flatten_and_product(list1)\n",
        "print(\"Product of all numbers:\", result)\n",
        "```\n",
        "\n",
        "### Q2: Program for Encrypting a Message\n",
        "\n",
        "For the encryption logic you described, we can create a function that converts each letter to its corresponding letter in reverse order of the alphabet, replaces whitespace with a dollar sign, and leaves punctuation unchanged. Here's the implementation:\n",
        "\n",
        "```python\n",
        "def encrypt_message(message):\n",
        "    # Create the mapping for letters\n",
        "    alphabet = 'abcdefghijklmnopqrstuvwxyz'\n",
        "    encrypted_mapping = {char: alphabet[::-1][i] for i, char in enumerate(alphabet)}\n",
        "\n",
        "    # Convert to lowercase and replace spaces with dollar signs\n",
        "    message = message.lower().replace(' ', '$')\n",
        "\n",
        "    encrypted_message = ''.join(encrypted_mapping.get(char, char) for char in message)\n",
        "    return encrypted_message\n",
        "\n",
        "# Example usage\n",
        "input_sentence = \"I want to become a Data Scientist.\"\n",
        "encrypted_result = encrypt_message(input_sentence)\n",
        "print(\"Encrypted message:\", encrypted_result)\n",
        "```\n",
        "\n",
        "### Outputs\n",
        "1. The product of all numeric values in the provided list will be printed from the first function.\n",
        "2. The encrypted message will be printed from the second function.\n",
        "\n",
        "You can run these codes in your Python environment to see the results! If you have any questions or need further modifications, let me know."
      ]
    }
  ]
}